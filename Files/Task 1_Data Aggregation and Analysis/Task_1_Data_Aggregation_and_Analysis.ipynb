{
  "nbformat": 4,
  "nbformat_minor": 0,
  "metadata": {
    "colab": {
      "provenance": []
    },
    "kernelspec": {
      "name": "python3",
      "display_name": "Python 3"
    },
    "language_info": {
      "name": "python"
    }
  },
  "cells": [
    {
      "cell_type": "markdown",
      "source": [
        "# Data Aggregation and Analysis"
      ],
      "metadata": {
        "id": "SOn80NSvgvZf"
      }
    },
    {
      "cell_type": "code",
      "source": [
        "# Import library\n",
        "import pandas as pd\n",
        "import numpy as np"
      ],
      "metadata": {
        "id": "PpqRBsF7hYEd"
      },
      "execution_count": 1,
      "outputs": []
    },
    {
      "cell_type": "code",
      "source": [
        "# Load the dataset from the provided URL\n",
        "link = 'https://github.com/sabirinID/Commonwealth-Bank-Data-Science-Virtual-Internship/raw/main/Files/Task%201_Data%20Aggregation%20and%20Analysis/supermarket_transactions.xlsx'\n",
        "data = pd.read_excel(link, index_col=0)\n",
        "\n",
        "# Display the first few rows of the dataset\n",
        "print(data.head())"
      ],
      "metadata": {
        "colab": {
          "base_uri": "https://localhost:8080/"
        },
        "id": "wd3zionmhSe_",
        "outputId": "112a1274-d62c-4d3d-c087-d54038f9ae6d"
      },
      "execution_count": 2,
      "outputs": [
        {
          "output_type": "stream",
          "name": "stdout",
          "text": [
            "                                     id           timestamp  quantity  \\\n",
            "0  47d54138-a950-4ec0-9d4a-e637e8dfb290 2022-04-28 09:11:00        10   \n",
            "1  dea298b1-26ca-4a43-bcef-4050fb74ce1d 2019-12-06 16:21:00         1   \n",
            "2  8dcd78f6-2e68-4fe3-9bb0-afe3bb2c3944 2019-06-22 15:27:00        10   \n",
            "3  261c100c-b121-44b7-bc03-787f396c2061 2020-08-16 18:14:00         8   \n",
            "4  7d025b4d-caac-40a5-b954-63cd7bd20f92 2019-11-12 15:46:00         1   \n",
            "\n",
            "                             product_id product_name  unit_price  \\\n",
            "0  56b274d1-b2a4-47be-abaf-6c1c7742beb9        wheat        0.39   \n",
            "1  56b274d1-b2a4-47be-abaf-6c1c7742beb9        wheat        0.39   \n",
            "2  56b274d1-b2a4-47be-abaf-6c1c7742beb9        wheat        0.39   \n",
            "3  56b274d1-b2a4-47be-abaf-6c1c7742beb9        wheat        0.39   \n",
            "4  56b274d1-b2a4-47be-abaf-6c1c7742beb9        wheat        0.39   \n",
            "\n",
            "   total_amount              store payment_method  \\\n",
            "0          3.90    South Billyview           cash   \n",
            "1          0.39       South Edward    contactless   \n",
            "2          3.90    South Billyview    contactless   \n",
            "3          3.12  South Michaelfurt    credit card   \n",
            "4          0.39    Christopherfurt           cash   \n",
            "\n",
            "                            customer_id customer_type  \n",
            "0  c2b9eddd-df8c-446a-ae34-50ad88f28e0a    non-member  \n",
            "1  134a3c2c-8ccc-494c-9916-a15ff10a9125        member  \n",
            "2  a310b698-4e34-4a4a-8c60-e72fad63f9ba          gold  \n",
            "3  0dfaced3-271c-4da0-80fc-fd3de4328bd5     corporate  \n",
            "4  b05efb3f-c38e-4b86-8366-32e42340a4dc          gold  \n"
          ]
        }
      ]
    },
    {
      "cell_type": "code",
      "source": [
        "# Display summary information about the dataset\n",
        "print(data.info())"
      ],
      "metadata": {
        "colab": {
          "base_uri": "https://localhost:8080/"
        },
        "id": "YcrTB311iMQ9",
        "outputId": "be290707-968e-4294-f572-a205f1a8e092"
      },
      "execution_count": 3,
      "outputs": [
        {
          "output_type": "stream",
          "name": "stdout",
          "text": [
            "<class 'pandas.core.frame.DataFrame'>\n",
            "Index: 50783 entries, 0 to 50782\n",
            "Data columns (total 11 columns):\n",
            " #   Column          Non-Null Count  Dtype         \n",
            "---  ------          --------------  -----         \n",
            " 0   id              50783 non-null  object        \n",
            " 1   timestamp       50783 non-null  datetime64[ns]\n",
            " 2   quantity        50783 non-null  int64         \n",
            " 3   product_id      50783 non-null  object        \n",
            " 4   product_name    50783 non-null  object        \n",
            " 5   unit_price      50783 non-null  float64       \n",
            " 6   total_amount    50783 non-null  float64       \n",
            " 7   store           50783 non-null  object        \n",
            " 8   payment_method  50783 non-null  object        \n",
            " 9   customer_id     50783 non-null  object        \n",
            " 10  customer_type   50783 non-null  object        \n",
            "dtypes: datetime64[ns](1), float64(2), int64(1), object(7)\n",
            "memory usage: 4.6+ MB\n",
            "None\n"
          ]
        }
      ]
    },
    {
      "cell_type": "markdown",
      "source": [
        "## Answer the questions"
      ],
      "metadata": {
        "id": "Kem1YKoele_f"
      }
    },
    {
      "cell_type": "markdown",
      "source": [
        "### Question 1: Across locations, how many apples were purchased in cash?\n",
        "\n",
        "To answer this question, we'll filter the dataset for transactions involving apples that were paid for in cash and then count the number of such transactions."
      ],
      "metadata": {
        "id": "PjMUcs1OkzzC"
      }
    },
    {
      "cell_type": "code",
      "source": [
        "# Filter for transactions involving apples paid in cash\n",
        "apples_cash = data[(data['product_name'] == 'apple') & (data['payment_method'] == 'cash')]\n",
        "\n",
        "# Count the number of apples purchased in cash\n",
        "num_apples_cash = apples_cash['quantity'].sum()\n",
        "print(f\"Number of apples purchased in cash: {num_apples_cash}\")"
      ],
      "metadata": {
        "colab": {
          "base_uri": "https://localhost:8080/"
        },
        "id": "VCuW8MJ4i2HP",
        "outputId": "f2e5fad3-87fc-4e26-b853-35cc076cb3af"
      },
      "execution_count": 4,
      "outputs": [
        {
          "output_type": "stream",
          "name": "stdout",
          "text": [
            "Number of apples purchased in cash: 117\n"
          ]
        }
      ]
    },
    {
      "cell_type": "markdown",
      "source": [
        "### Question 2: How much total cash was spent on these apples?\n",
        "\n",
        "We'll sum the total cash spent on apples from the filtered dataset."
      ],
      "metadata": {
        "id": "-0TxmPT-lYKs"
      }
    },
    {
      "cell_type": "code",
      "source": [
        "# Calculate the total cash spent on apples\n",
        "total_cash_spent_apples = apples_cash['total_amount'].sum()\n",
        "print(f\"Total cash spent on apples: ${total_cash_spent_apples:.2f}\")"
      ],
      "metadata": {
        "colab": {
          "base_uri": "https://localhost:8080/"
        },
        "id": "9_VmDYellFc6",
        "outputId": "9035a373-53be-4e63-cfb8-f6e1e39b03d6"
      },
      "execution_count": 5,
      "outputs": [
        {
          "output_type": "stream",
          "name": "stdout",
          "text": [
            "Total cash spent on apples: $537.03\n"
          ]
        }
      ]
    },
    {
      "cell_type": "markdown",
      "source": [
        "### Question 3: Across all payment methods, how much money was spent at the Bakershire store location by non-member customers?\n",
        "\n",
        "We'll filter the dataset for transactions at the Bakershire store by non-member customers and sum the total money spent."
      ],
      "metadata": {
        "id": "RsvZKjlrlq8J"
      }
    },
    {
      "cell_type": "code",
      "source": [
        "# Filter for transactions at the Bakershire store by non-member customers\n",
        "bakershire_non_members = data[(data['store'] == 'Bakershire') & (data['customer_type'] == 'non-member')]\n",
        "\n",
        "# Calculate the total money spent by non-member customers at the Bakershire store\n",
        "total_spent_bakershire_non_members = bakershire_non_members['total_amount'].sum()\n",
        "print(f\"Total money spent by non-member customers at the Bakershire store: ${total_spent_bakershire_non_members:.2f}\")"
      ],
      "metadata": {
        "colab": {
          "base_uri": "https://localhost:8080/"
        },
        "id": "OStCAF2dlhzM",
        "outputId": "326fd3ea-9088-4564-d841-813bd098b51d"
      },
      "execution_count": 6,
      "outputs": [
        {
          "output_type": "stream",
          "name": "stdout",
          "text": [
            "Total money spent by non-member customers at the Bakershire store: $2857.51\n"
          ]
        }
      ]
    },
    {
      "cell_type": "code",
      "source": [],
      "metadata": {
        "id": "rgGIVuQ2luN1"
      },
      "execution_count": 6,
      "outputs": []
    }
  ]
}